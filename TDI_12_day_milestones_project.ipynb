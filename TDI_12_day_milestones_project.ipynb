{
 "cells": [
  {
   "cell_type": "code",
   "execution_count": null,
   "id": "corresponding-headline",
   "metadata": {},
   "outputs": [],
   "source": [
    "#import packages\n",
    "import pandas as pd\n",
    "import matplotlib.pyplot as plt\n",
    "import numpy as np\n",
    "import os "
   ]
  },
  {
   "cell_type": "code",
   "execution_count": null,
   "id": "possible-facility",
   "metadata": {},
   "outputs": [],
   "source": [
    "#current dir\n",
    "cwd = os.getcwd()\n",
    "\n",
    "#load Value of Energy Cost Saving Program CSV dataset\n",
    "df = pd.read_csv(cwd + '/Value_of_Energy_Cost_Savings_Program_Savings_for_Businesses_FY2020.csv')"
   ]
  },
  {
   "cell_type": "code",
   "execution_count": null,
   "id": "designed-vinyl",
   "metadata": {},
   "outputs": [],
   "source": [
    "df.head()"
   ]
  },
  {
   "cell_type": "code",
   "execution_count": null,
   "id": "posted-logan",
   "metadata": {},
   "outputs": [],
   "source": [
    "df.shape"
   ]
  },
  {
   "cell_type": "code",
   "execution_count": null,
   "id": "differential-evening",
   "metadata": {},
   "outputs": [],
   "source": [
    "# Question 1: How many different companies are represented in the data set?\n",
    "df['Company Name'].nunique()"
   ]
  },
  {
   "cell_type": "code",
   "execution_count": null,
   "id": "played-austin",
   "metadata": {},
   "outputs": [],
   "source": [
    "df.columns"
   ]
  },
  {
   "cell_type": "code",
   "execution_count": null,
   "id": "answering-station",
   "metadata": {},
   "outputs": [],
   "source": [
    "#Question 2: What is the total number of jobs created for businesses in Queens?\n",
    "df.groupby('Borough')['Job created'].sum()"
   ]
  },
  {
   "cell_type": "code",
   "execution_count": null,
   "id": "unavailable-perspective",
   "metadata": {},
   "outputs": [],
   "source": [
    "#Question 3: How many different unique email domains names are there in the data set?\n",
    "df['company email'].nunique()"
   ]
  },
  {
   "cell_type": "code",
   "execution_count": null,
   "id": "aggressive-fourth",
   "metadata": {},
   "outputs": [],
   "source": [
    "#Question 4: Considering only NTAs with at least 5 listed businesses, \n",
    "#what is the average total savings and the total jobs created for each NTA? \n",
    "\n",
    "#Create mask of NTA with at least 5 businesses\n",
    "mask_5 = df.groupby('NTA')['Company Name'].nunique() > 4"
   ]
  },
  {
   "cell_type": "code",
   "execution_count": null,
   "id": "ranking-nomination",
   "metadata": {},
   "outputs": [],
   "source": [
    "#Question 4 - Average total savings\n",
    "average_savings = df.groupby('NTA')['Total Savings'].mean()\n",
    "\n",
    "average_savings = pd.DataFrame(average_savings[mask_5]) \n",
    "average_savings"
   ]
  },
  {
   "cell_type": "code",
   "execution_count": null,
   "id": "sophisticated-anniversary",
   "metadata": {},
   "outputs": [],
   "source": [
    "#Question 4 - total jobs created\n",
    "jobs_created = df.groupby('NTA')['Job created'].sum()\n",
    "\n",
    "jobs_created = pd.DataFrame(jobs_created[mask_5]) \n",
    "jobs_created"
   ]
  },
  {
   "cell_type": "code",
   "execution_count": null,
   "id": "random-niagara",
   "metadata": {},
   "outputs": [],
   "source": [
    "#save to CSV file\n",
    "\n",
    "df_combine = pd.concat([average_savings,jobs_created], axis = 1)\n",
    "df_combine"
   ]
  },
  {
   "cell_type": "code",
   "execution_count": null,
   "id": "fewer-terrain",
   "metadata": {},
   "outputs": [],
   "source": [
    "#scatter plot of jobs created versus average savings.\n",
    "#Use both a standard and a logarithmic scale for the average savings. \n",
    "\n",
    "plt.scatter(df_combine['Total Savings'], df_combine['Job created'])\n",
    "plt.xlabel('Total Savings');\n",
    "plt.ylabel('Jobs Created');"
   ]
  },
  {
   "cell_type": "code",
   "execution_count": null,
   "id": "olympic-australia",
   "metadata": {},
   "outputs": [],
   "source": [
    "#scatter plot of jobs created versus average savings (logarithmic scale).\n",
    "plt.scatter(np.log2(df_combine['Total Savings']),(df_combine['Job created']))\n",
    "plt.xlabel('Log Total Savings');\n",
    "plt.ylabel('Jobs Created');"
   ]
  },
  {
   "cell_type": "code",
   "execution_count": null,
   "id": "eligible-ancient",
   "metadata": {},
   "outputs": [],
   "source": [
    "#histogram of the log of the average total savings\n",
    "plt.hist(np.log2(df_combine['Total Savings']));\n",
    "plt.xlabel('Log Total Savings');"
   ]
  },
  {
   "cell_type": "code",
   "execution_count": null,
   "id": "unsigned-sullivan",
   "metadata": {},
   "outputs": [],
   "source": [
    "df['month'] = pd.to_datetime(df['Effective Date']).dt.month"
   ]
  },
  {
   "cell_type": "code",
   "execution_count": null,
   "id": "resident-surprise",
   "metadata": {},
   "outputs": [],
   "source": [
    "#line plot of the total jobs created for each month.\n",
    "\n",
    "#extract the month from the effective date of each row\n",
    "df['month'] = pd.to_datetime(df['Effective Date']).dt.month\n",
    "\n",
    "#groupby month and sum the jobs created\n",
    "plt.plot(df.groupby('month')['Job created'].sum())\n",
    "plt.xticks(range(1,13));\n",
    "plt.xlabel('Month');\n",
    "plt.ylabel('Jobs created');"
   ]
  }
 ],
 "metadata": {
  "kernelspec": {
   "display_name": "Python [conda env:geopandas_testenv]",
   "language": "python",
   "name": "conda-env-geopandas_testenv-py"
  },
  "language_info": {
   "codemirror_mode": {
    "name": "ipython",
    "version": 3
   },
   "file_extension": ".py",
   "mimetype": "text/x-python",
   "name": "python",
   "nbconvert_exporter": "python",
   "pygments_lexer": "ipython3",
   "version": "3.8.8"
  }
 },
 "nbformat": 4,
 "nbformat_minor": 5
}
